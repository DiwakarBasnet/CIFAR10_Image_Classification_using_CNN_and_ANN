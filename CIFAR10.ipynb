{
  "nbformat": 4,
  "nbformat_minor": 0,
  "metadata": {
    "colab": {
      "name": "Untitled0.ipynb",
      "provenance": [],
      "authorship_tag": "ABX9TyP8gElrEfb4DagANc6fJICH",
      "include_colab_link": true
    },
    "kernelspec": {
      "name": "python3",
      "display_name": "Python 3"
    },
    "language_info": {
      "name": "python"
    },
    "accelerator": "GPU"
  },
  "cells": [
    {
      "cell_type": "markdown",
      "metadata": {
        "id": "view-in-github",
        "colab_type": "text"
      },
      "source": [
        "<a href=\"https://colab.research.google.com/github/DiwakarBasnet/CIFAR10_Image_Classification_using_CNN_and_ANN/blob/main/CIFAR10.ipynb\" target=\"_parent\"><img src=\"https://colab.research.google.com/assets/colab-badge.svg\" alt=\"Open In Colab\"/></a>"
      ]
    },
    {
      "cell_type": "code",
      "execution_count": 1,
      "metadata": {
        "id": "h3IyH7cXkBfB"
      },
      "outputs": [],
      "source": [
        "import tensorflow as tf\n",
        "from tensorflow.keras import datasets, layers, models\n",
        "import matplotlib.pyplot as plt\n",
        "import numpy as np"
      ]
    },
    {
      "cell_type": "code",
      "source": [
        "(X_train, y_train), (X_test, y_test) = datasets.cifar10.load_data()"
      ],
      "metadata": {
        "colab": {
          "base_uri": "https://localhost:8080/"
        },
        "id": "b6mk59_bkYQr",
        "outputId": "9c3774e6-dc91-489c-ed31-21477ea8444e"
      },
      "execution_count": 2,
      "outputs": [
        {
          "output_type": "stream",
          "name": "stdout",
          "text": [
            "Downloading data from https://www.cs.toronto.edu/~kriz/cifar-10-python.tar.gz\n",
            "170500096/170498071 [==============================] - 3s 0us/step\n",
            "170508288/170498071 [==============================] - 3s 0us/step\n"
          ]
        }
      ]
    },
    {
      "cell_type": "code",
      "source": [
        "# reshape y_train from 2D array to 1D\n",
        "y_train = y_train.reshape(-1,)\n",
        "y_test = y_test.reshape(-1,)"
      ],
      "metadata": {
        "id": "A-mMrWaamds_"
      },
      "execution_count": 13,
      "outputs": []
    },
    {
      "cell_type": "code",
      "source": [
        "classes = [\"airplane\",\"automobile\",\"bird\",\"cat\",\"deer\",\"dog\",\"frog\",\"horse\",\"ship\",\"truck\"]"
      ],
      "metadata": {
        "id": "YsKi1_-WlN6A"
      },
      "execution_count": 4,
      "outputs": []
    },
    {
      "cell_type": "code",
      "source": [
        "def plot_sample(X, y, index):\n",
        "  plt.figure(figsize = (15,2))\n",
        "  plt.imshow(X_train[index])\n",
        "  plt.xlabel(classes[y[index]])"
      ],
      "metadata": {
        "id": "twHvdCbWk4ze"
      },
      "execution_count": 5,
      "outputs": []
    },
    {
      "cell_type": "code",
      "source": [
        "plot_sample(X_train, y_train, 1)"
      ],
      "metadata": {
        "colab": {
          "base_uri": "https://localhost:8080/",
          "height": 173
        },
        "id": "r6SdxwV2m_Hi",
        "outputId": "3372d662-ca7c-4f36-8261-39dc044ae059"
      },
      "execution_count": 6,
      "outputs": [
        {
          "output_type": "display_data",
          "data": {
            "text/plain": [
              "<Figure size 1080x144 with 1 Axes>"
            ],
            "image/png": "[encoded data removed]"
          },
          "metadata": {
            "needs_background": "light"
          }
        }
      ]
    },
    {
      "cell_type": "code",
      "source": [
        "# normalizing values of train and test array\n",
        "X_train = X_train / 255\n",
        "X_test = X_test / 255"
      ],
      "metadata": {
        "id": "EGDC-Y4EnMgR"
      },
      "execution_count": 7,
      "outputs": []
    },
    {
      "cell_type": "code",
      "source": [
        "# checking how does this work on ann model\n",
        "\n",
        "# ann = models.Sequential([\n",
        "#             layers.Flatten(input_shape=(32,32,3)),\n",
        "#             layers.Dense(3000, activation='relu'),\n",
        "#             layers.Dense(1000, activation='relu'),\n",
        "#             layers.Dense(10, activation='sigmoid')\n",
        "# ])\n",
        "\n",
        "# ann.compile(optimizer='SGD',\n",
        "#             loss='sparse_categorical_crossentropy',\n",
        "#             metrics=['accuracy'])\n",
        "\n",
        "# ann.fit(X_train, y_train, epochs=5)"
      ],
      "metadata": {
        "colab": {
          "base_uri": "https://localhost:8080/"
        },
        "id": "GPHlJ0xqnhli",
        "outputId": "847a0ca7-0449-4a20-e03c-7d8ae65982c2"
      },
      "execution_count": 16,
      "outputs": [
        {
          "output_type": "stream",
          "name": "stdout",
          "text": [
            "Epoch 1/5\n",
            "1563/1563 [==============================] - 111s 71ms/step - loss: 1.8165 - accuracy: 0.3536\n",
            "Epoch 2/5\n",
            "1563/1563 [==============================] - 111s 71ms/step - loss: 1.6247 - accuracy: 0.4245\n",
            "Epoch 3/5\n",
            "1563/1563 [==============================] - 112s 71ms/step - loss: 1.5435 - accuracy: 0.4544\n",
            "Epoch 4/5\n",
            "1563/1563 [==============================] - 111s 71ms/step - loss: 1.4842 - accuracy: 0.4773\n",
            "Epoch 5/5\n",
            "1563/1563 [==============================] - 114s 73ms/step - loss: 1.4354 - accuracy: 0.4941\n"
          ]
        },
        {
          "output_type": "execute_result",
          "data": {
            "text/plain": [
              "<keras.callbacks.History at 0x7f0d8405db10>"
            ]
          },
          "metadata": {},
          "execution_count": 16
        }
      ]
    },
    {
      "cell_type": "code",
      "source": [
        "# from sklearn.metrics import confusion_matrix, classification_report\n",
        "# y_pred = ann.predict(X_test)\n",
        "# y_pred_classes = [np.argmax(element) for element in y_pred]\n",
        "\n",
        "# print(\"Classification Report:\\n\",classification_report(y_test,y_pred_classes))"
      ],
      "metadata": {
        "colab": {
          "base_uri": "https://localhost:8080/"
        },
        "id": "09zGsWhHq1HO",
        "outputId": "f0644469-7824-44db-e68e-c68b1ecec8ac"
      },
      "execution_count": 17,
      "outputs": [
        {
          "output_type": "stream",
          "name": "stdout",
          "text": [
            "Classification Report:\n",
            "               precision    recall  f1-score   support\n",
            "\n",
            "           0       0.61      0.55      0.58      1000\n",
            "           1       0.46      0.80      0.58      1000\n",
            "           2       0.46      0.17      0.25      1000\n",
            "           3       0.39      0.27      0.32      1000\n",
            "           4       0.43      0.44      0.43      1000\n",
            "           5       0.53      0.25      0.34      1000\n",
            "           6       0.40      0.74      0.52      1000\n",
            "           7       0.43      0.70      0.53      1000\n",
            "           8       0.69      0.53      0.60      1000\n",
            "           9       0.65      0.35      0.46      1000\n",
            "\n",
            "    accuracy                           0.48     10000\n",
            "   macro avg       0.50      0.48      0.46     10000\n",
            "weighted avg       0.50      0.48      0.46     10000\n",
            "\n"
          ]
        }
      ]
    },
    {
      "cell_type": "code",
      "source": [
        "# cnn = convolutional layers + dense layer from ann\n",
        "# no need to specify input_shape in layers.Flatten because our cnn automatically detects\n",
        "# no need for many dense neurons because most of the work is already done in cnn\n",
        "\n",
        "cnn = models.Sequential([\n",
        "            #cnn\n",
        "            layers.Conv2D(filters=32, kernel_size=(3,3), activation='relu', input_shape=(32,32,3)),   # filters=32 detects 32 different features from image\n",
        "            layers.MaxPooling2D((2,2)),\n",
        "\n",
        "            layers.Conv2D(filters=64, kernel_size=(3,3), activation='relu'),\n",
        "            layers.MaxPooling2D((2,2)),\n",
        "            \n",
        "            #dense\n",
        "            layers.Flatten(),\n",
        "            layers.Dense(64, activation='relu'),\n",
        "            layers.Dense(10, activation='softmax')\n",
        "])"
      ],
      "metadata": {
        "id": "Fsj6NzZxuOHw"
      },
      "execution_count": 8,
      "outputs": []
    },
    {
      "cell_type": "code",
      "source": [
        "cnn.compile(optimizer='adam',\n",
        "              loss='sparse_categorical_crossentropy',\n",
        "              metrics=['accuracy'])"
      ],
      "metadata": {
        "id": "ZAaYw58dxAHY"
      },
      "execution_count": 9,
      "outputs": []
    },
    {
      "cell_type": "code",
      "source": [
        "cnn.fit(X_train, y_train, epochs=10)"
      ],
      "metadata": {
        "colab": {
          "base_uri": "https://localhost:8080/"
        },
        "id": "SW4TTONhxZcS",
        "outputId": "1fd1b6cc-2613-42cb-d649-61e63b9f98e3"
      },
      "execution_count": 10,
      "outputs": [
        {
          "output_type": "stream",
          "name": "stdout",
          "text": [
            "Epoch 1/10\n",
            "1563/1563 [==============================] - 20s 6ms/step - loss: 1.4857 - accuracy: 0.4675\n",
            "Epoch 2/10\n",
            "1563/1563 [==============================] - 10s 6ms/step - loss: 1.1176 - accuracy: 0.6081\n",
            "Epoch 3/10\n",
            "1563/1563 [==============================] - 10s 6ms/step - loss: 0.9827 - accuracy: 0.6596\n",
            "Epoch 4/10\n",
            "1563/1563 [==============================] - 10s 6ms/step - loss: 0.9029 - accuracy: 0.6878\n",
            "Epoch 5/10\n",
            "1563/1563 [==============================] - 10s 6ms/step - loss: 0.8336 - accuracy: 0.7125\n",
            "Epoch 6/10\n",
            "1563/1563 [==============================] - 10s 6ms/step - loss: 0.7774 - accuracy: 0.7299\n",
            "Epoch 7/10\n",
            "1563/1563 [==============================] - 10s 6ms/step - loss: 0.7266 - accuracy: 0.7486\n",
            "Epoch 8/10\n",
            "1563/1563 [==============================] - 10s 6ms/step - loss: 0.6905 - accuracy: 0.7589\n",
            "Epoch 9/10\n",
            "1563/1563 [==============================] - 10s 6ms/step - loss: 0.6490 - accuracy: 0.7748\n",
            "Epoch 10/10\n",
            "1563/1563 [==============================] - 10s 6ms/step - loss: 0.6126 - accuracy: 0.7857\n"
          ]
        },
        {
          "output_type": "execute_result",
          "data": {
            "text/plain": [
              "<keras.callbacks.History at 0x7f9fc010eb90>"
            ]
          },
          "metadata": {},
          "execution_count": 10
        }
      ]
    },
    {
      "cell_type": "code",
      "source": [
        "cnn.evaluate(X_test, y_test)"
      ],
      "metadata": {
        "colab": {
          "base_uri": "https://localhost:8080/"
        },
        "id": "DnePUxhoxw6a",
        "outputId": "23112e5f-db4b-4d53-a319-62af2ca16003"
      },
      "execution_count": 11,
      "outputs": [
        {
          "output_type": "stream",
          "name": "stdout",
          "text": [
            "313/313 [==============================] - 2s 7ms/step - loss: 0.9307 - accuracy: 0.6979\n"
          ]
        },
        {
          "output_type": "execute_result",
          "data": {
            "text/plain": [
              "[0.9307183623313904, 0.6978999972343445]"
            ]
          },
          "metadata": {},
          "execution_count": 11
        }
      ]
    },
    {
      "cell_type": "code",
      "source": [
        "plot_sample(X_test, y_test, 6)"
      ],
      "metadata": {
        "colab": {
          "base_uri": "https://localhost:8080/",
          "height": 173
        },
        "id": "YWAF7Qpgygeo",
        "outputId": "c792154b-367b-4adb-b6de-325b723e3f55"
      },
      "execution_count": 20,
      "outputs": [
        {
          "output_type": "display_data",
          "data": {
            "text/plain": [
              "<Figure size 1080x144 with 1 Axes>"
            ],
            "image/png": "[encoded data removed]"
          },
          "metadata": {
            "needs_background": "light"
          }
        }
      ]
    },
    {
      "cell_type": "code",
      "source": [
        "from sklearn.metrics import confusion_matrix, classification_report\n",
        "y_pred = cnn.predict(X_test)\n",
        "y_pred_classes = [np.argmax(element) for element in y_pred]\n",
        "print(\"Classification Report:\\n\", classification_report(y_test, y_pred_classes))"
      ],
      "metadata": {
        "colab": {
          "base_uri": "https://localhost:8080/"
        },
        "id": "gqOwGgsH0CCW",
        "outputId": "7732f27a-379b-4f26-97fc-cb29d3e4644e"
      },
      "execution_count": 24,
      "outputs": [
        {
          "output_type": "stream",
          "name": "stdout",
          "text": [
            "Classification Report:\n",
            "               precision    recall  f1-score   support\n",
            "\n",
            "           0       0.72      0.75      0.74      1000\n",
            "           1       0.82      0.81      0.82      1000\n",
            "           2       0.71      0.47      0.57      1000\n",
            "           3       0.50      0.54      0.52      1000\n",
            "           4       0.56      0.77      0.65      1000\n",
            "           5       0.62      0.61      0.62      1000\n",
            "           6       0.83      0.70      0.76      1000\n",
            "           7       0.75      0.73      0.74      1000\n",
            "           8       0.82      0.77      0.79      1000\n",
            "           9       0.74      0.83      0.78      1000\n",
            "\n",
            "    accuracy                           0.70     10000\n",
            "   macro avg       0.71      0.70      0.70     10000\n",
            "weighted avg       0.71      0.70      0.70     10000\n",
            "\n"
          ]
        }
      ]
    },
    {
      "cell_type": "code",
      "source": [
        ""
      ],
      "metadata": {
        "id": "AVx0puzq0ggu"
      },
      "execution_count": null,
      "outputs": []
    }
  ]
}